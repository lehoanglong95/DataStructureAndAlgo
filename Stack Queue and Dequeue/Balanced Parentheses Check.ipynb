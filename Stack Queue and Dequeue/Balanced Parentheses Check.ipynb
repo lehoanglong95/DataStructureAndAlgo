{
 "cells": [
  {
   "cell_type": "code",
   "execution_count": 5,
   "metadata": {},
   "outputs": [],
   "source": [
    "def balanced_parentheses_check(s):\n",
    "    \n",
    "    if len(s) % 2 != 0:\n",
    "        return False\n",
    "    \n",
    "    open_paren = set(\"([{\")\n",
    "    matches = set([(\"(\", \")\"), (\"[\", \"]\"), (\"{\", \"}\")])\n",
    "    \n",
    "    stack = []\n",
    "    \n",
    "    for paren in s:\n",
    "        if paren in open_paren:\n",
    "            stack.append(paren)\n",
    "        else:\n",
    "            if len(stack) == 0:\n",
    "                return False\n",
    "            last_paren = stack.pop()\n",
    "            if (last_paren, paren) not in matches:\n",
    "                return False\n",
    "    \n",
    "    return len(stack) == 0"
   ]
  },
  {
   "cell_type": "code",
   "execution_count": 6,
   "metadata": {},
   "outputs": [
    {
     "data": {
      "text/plain": [
       "True"
      ]
     },
     "execution_count": 6,
     "metadata": {},
     "output_type": "execute_result"
    }
   ],
   "source": [
    "balanced_parentheses_check(\"[]\")"
   ]
  },
  {
   "cell_type": "code",
   "execution_count": null,
   "metadata": {},
   "outputs": [],
   "source": []
  }
 ],
 "metadata": {
  "kernelspec": {
   "display_name": "Python 3",
   "language": "python",
   "name": "python3"
  },
  "language_info": {
   "codemirror_mode": {
    "name": "ipython",
    "version": 3
   },
   "file_extension": ".py",
   "mimetype": "text/x-python",
   "name": "python",
   "nbconvert_exporter": "python",
   "pygments_lexer": "ipython3",
   "version": "3.6.5"
  }
 },
 "nbformat": 4,
 "nbformat_minor": 2
}
