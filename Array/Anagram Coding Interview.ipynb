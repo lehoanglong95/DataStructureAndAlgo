{
 "cells": [
  {
   "cell_type": "code",
   "execution_count": 21,
   "metadata": {},
   "outputs": [],
   "source": [
    "def anagram(s1, s2):\n",
    "    new_s1 = s1.lower().replace(\" \", \"\")\n",
    "    new_s2 = s2.lower().replace(\" \", \"\")\n",
    "    dic1 = {}\n",
    "    dic2 = {}\n",
    "    for char in new_s1:\n",
    "        if char in dic1:\n",
    "            dic1[char] += 1\n",
    "        else:\n",
    "            dic1[char] = 0\n",
    "    for char in new_s2:\n",
    "        if char in dic2:\n",
    "            dic2[char] += 1\n",
    "        else:\n",
    "            dic2[char] = 0\n",
    "    for key in dic1:\n",
    "        if not key in dic2 or not dic1[key] == dic2[key]:\n",
    "            return False\n",
    "    return True"
   ]
  },
  {
   "cell_type": "code",
   "execution_count": 15,
   "metadata": {},
   "outputs": [
    {
     "name": "stdout",
     "output_type": "stream",
     "text": [
      "dog\n",
      "god\n"
     ]
    },
    {
     "data": {
      "text/plain": [
       "True"
      ]
     },
     "execution_count": 15,
     "metadata": {},
     "output_type": "execute_result"
    }
   ],
   "source": [
    "anagram(\"dog\",\"G o d\")"
   ]
  },
  {
   "cell_type": "code",
   "execution_count": 17,
   "metadata": {},
   "outputs": [
    {
     "name": "stdout",
     "output_type": "stream",
     "text": [
      "clinteastwood\n",
      "oldwestaction\n"
     ]
    },
    {
     "data": {
      "text/plain": [
       "True"
      ]
     },
     "execution_count": 17,
     "metadata": {},
     "output_type": "execute_result"
    }
   ],
   "source": [
    "anagram(\"clint eastwood\", \"old west action\")"
   ]
  },
  {
   "cell_type": "code",
   "execution_count": 22,
   "metadata": {},
   "outputs": [
    {
     "name": "stdout",
     "output_type": "stream",
     "text": [
      "ALL TEST CASES PASSED\n"
     ]
    }
   ],
   "source": [
    "from nose.tools import assert_equal\n",
    "class AnagramTest(object):\n",
    "    def test(self, sol):\n",
    "        assert_equal(sol('go go go', 'gggooo'), True)\n",
    "        assert_equal(sol('abc', 'cba'), True)\n",
    "        assert_equal(sol('hi man', 'hi      man'), True)\n",
    "        assert_equal(sol('aabbcc', 'aabbc'), False)\n",
    "        assert_equal(sol('123', '1 2'), False)\n",
    "        print(\"ALL TEST CASES PASSED\")\n",
    "    \n",
    "#Run test    \n",
    "t = AnagramTest()\n",
    "t.test(anagram)"
   ]
  },
  {
   "cell_type": "code",
   "execution_count": null,
   "metadata": {},
   "outputs": [],
   "source": []
  }
 ],
 "metadata": {
  "kernelspec": {
   "display_name": "Python 3",
   "language": "python",
   "name": "python3"
  },
  "language_info": {
   "codemirror_mode": {
    "name": "ipython",
    "version": 3
   },
   "file_extension": ".py",
   "mimetype": "text/x-python",
   "name": "python",
   "nbconvert_exporter": "python",
   "pygments_lexer": "ipython3",
   "version": "3.6.5"
  }
 },
 "nbformat": 4,
 "nbformat_minor": 2
}
