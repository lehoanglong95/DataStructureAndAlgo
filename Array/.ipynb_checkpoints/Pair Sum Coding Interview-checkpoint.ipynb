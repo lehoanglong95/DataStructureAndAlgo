{
 "cells": [
  {
   "cell_type": "code",
   "execution_count": 76,
   "metadata": {},
   "outputs": [],
   "source": [
    "def pair_sum(arr, target_sum):\n",
    "    result = []\n",
    "    arr = sorted(arr)\n",
    "    for ele in arr:\n",
    "        print(ele)\n",
    "        another_ele = find(arr, target_sum - ele)\n",
    "        if isinstance(another_ele, bool):\n",
    "            continue\n",
    "        else:\n",
    "            result.append((ele, another_ele))\n",
    "            arr.remove(ele)\n",
    "    return (result,len(result))\n",
    "def find(arr, ele):\n",
    "    mid = len(arr) // 2\n",
    "    if len(arr) == 1:\n",
    "        if arr[0] == ele:\n",
    "            return ele\n",
    "        else:\n",
    "            return False\n",
    "    if arr[mid] == ele:\n",
    "        return ele\n",
    "    elif arr[mid] > ele:\n",
    "        return find(arr[0:mid], ele)\n",
    "    elif arr[mid] < ele:\n",
    "        return find(arr[mid:len(arr)], ele)"
   ]
  },
  {
   "cell_type": "code",
   "execution_count": 41,
   "metadata": {},
   "outputs": [
    {
     "name": "stdout",
     "output_type": "stream",
     "text": [
      "2\n",
      "[2, 3]\n",
      "[1, 2]\n"
     ]
    }
   ],
   "source": [
    "arr = [1,2,2,3]\n",
    "mid = len(arr) // 2\n",
    "print(arr[mid])\n",
    "print(arr[mid:len(arr)])\n",
    "print(arr[0:mid])\n"
   ]
  },
  {
   "cell_type": "code",
   "execution_count": 42,
   "metadata": {},
   "outputs": [
    {
     "name": "stdout",
     "output_type": "stream",
     "text": [
      "([(1, 3), (2, 2)], 2)\n"
     ]
    }
   ],
   "source": [
    "print(pair_sum([1,3,2,2],4))"
   ]
  },
  {
   "cell_type": "code",
   "execution_count": 77,
   "metadata": {},
   "outputs": [
    {
     "name": "stdout",
     "output_type": "stream",
     "text": [
      "-1\n",
      "2\n",
      "4\n",
      "5\n",
      "7\n",
      "9\n",
      "13\n",
      "13\n",
      "14\n",
      "([(-1, 11), (2, 8), (4, 6), (5, 5), (7, 3), (9, 1)], 6)\n"
     ]
    }
   ],
   "source": [
    "print(pair_sum([1,9,2,8,3,7,4,6,5,5,13,14,11,13,-1],10))\n",
    "#print(pair_sum([1,2,3,1],3))\n",
    "#print(pair_sum([1,3,2,2],4))"
   ]
  },
  {
   "cell_type": "code",
   "execution_count": 66,
   "metadata": {},
   "outputs": [
    {
     "name": "stdout",
     "output_type": "stream",
     "text": [
      "[1, 2, 3, 4, 5, 5, 6, 7, 8, 9, 13, 13, 14]\n",
      "[6, 7, 8, 9, 13, 13, 14]\n"
     ]
    },
    {
     "data": {
      "text/plain": [
       "9"
      ]
     },
     "execution_count": 66,
     "metadata": {},
     "output_type": "execute_result"
    }
   ],
   "source": [
    "find([1,2,3,4,5,5,6,7,8,9,13,13,14],9)"
   ]
  },
  {
   "cell_type": "code",
   "execution_count": null,
   "metadata": {},
   "outputs": [],
   "source": []
  }
 ],
 "metadata": {
  "kernelspec": {
   "display_name": "Python 3",
   "language": "python",
   "name": "python3"
  },
  "language_info": {
   "codemirror_mode": {
    "name": "ipython",
    "version": 3
   },
   "file_extension": ".py",
   "mimetype": "text/x-python",
   "name": "python",
   "nbconvert_exporter": "python",
   "pygments_lexer": "ipython3",
   "version": "3.6.5"
  }
 },
 "nbformat": 4,
 "nbformat_minor": 2
}
