{
 "cells": [
  {
   "cell_type": "code",
   "execution_count": 32,
   "metadata": {},
   "outputs": [],
   "source": [
    "# def rev_sentence(s):\n",
    "#     s = s.lstrip()\n",
    "#     s = s.rstrip()\n",
    "#     str_arr = s.split(\" \")\n",
    "#     for ele in str_arr:\n",
    "#         ele = ele.strip()\n",
    "#     return \" \".join(reversed(str_arr))"
   ]
  },
  {
   "cell_type": "code",
   "execution_count": 33,
   "metadata": {},
   "outputs": [
    {
     "data": {
      "text/plain": [
       "'go? to ready you are     John, Hi'"
      ]
     },
     "execution_count": 33,
     "metadata": {},
     "output_type": "execute_result"
    }
   ],
   "source": [
    "# rev_sentence(\"Hi John,     are you ready to go?\")"
   ]
  },
  {
   "cell_type": "code",
   "execution_count": 34,
   "metadata": {},
   "outputs": [],
   "source": [
    "def rev_sentence1(s):\n",
    "    words = []\n",
    "    length = len(s)\n",
    "    space = [' ']\n",
    "    \n",
    "    i = 0\n",
    "    while i < length:\n",
    "        if s[i] not in space:\n",
    "            start_word = i\n",
    "            while i < length and s[i] not in space:\n",
    "                i += 1\n",
    "            words.append(s[start_word:i])\n",
    "        i += 1\n",
    "    return \" \".join(reversed(words))"
   ]
  },
  {
   "cell_type": "code",
   "execution_count": 35,
   "metadata": {},
   "outputs": [
    {
     "data": {
      "text/plain": [
       "'go? to ready you are John, Hi'"
      ]
     },
     "execution_count": 35,
     "metadata": {},
     "output_type": "execute_result"
    }
   ],
   "source": [
    "rev_sentence1(\"Hi John, are you ready to go?\")"
   ]
  },
  {
   "cell_type": "code",
   "execution_count": null,
   "metadata": {},
   "outputs": [],
   "source": []
  }
 ],
 "metadata": {
  "kernelspec": {
   "display_name": "Python 3",
   "language": "python",
   "name": "python3"
  },
  "language_info": {
   "codemirror_mode": {
    "name": "ipython",
    "version": 3
   },
   "file_extension": ".py",
   "mimetype": "text/x-python",
   "name": "python",
   "nbconvert_exporter": "python",
   "pygments_lexer": "ipython3",
   "version": "3.6.5"
  }
 },
 "nbformat": 4,
 "nbformat_minor": 2
}
