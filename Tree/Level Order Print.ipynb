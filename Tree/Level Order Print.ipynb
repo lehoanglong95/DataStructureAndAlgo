{
 "cells": [
  {
   "cell_type": "code",
   "execution_count": 1,
   "metadata": {},
   "outputs": [],
   "source": [
    "class BinaryTree(object):\n",
    "    \n",
    "    def __init__(self, rootObj):\n",
    "        self.key = rootObj\n",
    "        self.leftChild = None\n",
    "        self.rightChild = None\n",
    "        \n",
    "    def insertLeft(self, newNode):\n",
    "        if self.leftChild == None:\n",
    "            self.leftChild = BinaryTree(newNode)\n",
    "        else:\n",
    "            t = BinaryTree(newNode)\n",
    "            t.leftChild = self.leftChild\n",
    "            self.leftChild = t\n",
    "            \n",
    "    def insertRight(self, newNode):\n",
    "        if self.rightChild == None:\n",
    "            self.rightChild = BinaryTree(newNode)\n",
    "        else:\n",
    "            t = BinaryTree(newNode)\n",
    "            t.rightChild = self.rightChild\n",
    "            self.rightChild = t\n",
    "            \n",
    "    def getRightChild(self):\n",
    "        return self.rightChild\n",
    "    \n",
    "    def getLeftChild(self):\n",
    "        return self.leftChild\n",
    "    \n",
    "    def setRootVal(self,obj):\n",
    "        self.key = obj\n",
    "        \n",
    "    def getRootVal(self):\n",
    "        return self.key"
   ]
  },
  {
   "cell_type": "code",
   "execution_count": 37,
   "metadata": {},
   "outputs": [],
   "source": [
    "def preorder(tree, d, n):\n",
    "    if n in d.keys():\n",
    "        d[n].append(tree.getRootVal())\n",
    "    else:\n",
    "        d[n] = [tree.getRootVal()]\n",
    "    if tree.getLeftChild() != None:\n",
    "        d = preorder(tree.getLeftChild(), d, n + 1)\n",
    "    if tree.getRightChild() != None:\n",
    "        d = preorder(tree.getRightChild(), d, n+ 1)\n",
    "    return d"
   ]
  },
  {
   "cell_type": "code",
   "execution_count": 38,
   "metadata": {},
   "outputs": [],
   "source": [
    "tree = BinaryTree(8)\n",
    "tree.insertLeft(3)\n",
    "tree.insertRight(10)\n",
    "tree.getLeftChild().insertLeft(1)\n",
    "tree.getLeftChild().insertRight(6)\n",
    "tree.getLeftChild().getRightChild().insertLeft(7)\n",
    "tree.getLeftChild().getRightChild().insertRight(4)\n",
    "tree.getRightChild().insertRight(14)\n",
    "tree.getRightChild().getRightChild().insertLeft(13)"
   ]
  },
  {
   "cell_type": "code",
   "execution_count": 39,
   "metadata": {},
   "outputs": [],
   "source": [
    "results = preorder(tree, {} , 0)"
   ]
  },
  {
   "cell_type": "code",
   "execution_count": 40,
   "metadata": {},
   "outputs": [
    {
     "name": "stdout",
     "output_type": "stream",
     "text": [
      "{0: [8], 1: [3, 10], 2: [1, 6, 14], 3: [7, 4, 13]}\n"
     ]
    }
   ],
   "source": [
    "print(results)"
   ]
  },
  {
   "cell_type": "code",
   "execution_count": 43,
   "metadata": {},
   "outputs": [
    {
     "name": "stdout",
     "output_type": "stream",
     "text": [
      "8\t\n",
      "3\t10\t\n",
      "1\t6\t14\t\n",
      "7\t4\t13\t\n"
     ]
    }
   ],
   "source": [
    "for key in results:\n",
    "    result = \"\"\n",
    "    for ele in results[key]:\n",
    "        result += str(ele) + \"\\t\"\n",
    "    print(result)"
   ]
  },
  {
   "cell_type": "code",
   "execution_count": null,
   "metadata": {},
   "outputs": [],
   "source": []
  }
 ],
 "metadata": {
  "kernelspec": {
   "display_name": "Python 3",
   "language": "python",
   "name": "python3"
  },
  "language_info": {
   "codemirror_mode": {
    "name": "ipython",
    "version": 3
   },
   "file_extension": ".py",
   "mimetype": "text/x-python",
   "name": "python",
   "nbconvert_exporter": "python",
   "pygments_lexer": "ipython3",
   "version": "3.6.5"
  }
 },
 "nbformat": 4,
 "nbformat_minor": 2
}
