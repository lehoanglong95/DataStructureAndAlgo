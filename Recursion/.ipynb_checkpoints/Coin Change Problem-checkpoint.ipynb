{
 "cells": [
  {
   "cell_type": "code",
   "execution_count": 10,
   "metadata": {},
   "outputs": [],
   "source": [
    "def rec_coin(target,coins,known_results):\n",
    "    min_coins = target\n",
    "    if target in coins:\n",
    "        known_results[target] = 1\n",
    "        return known_results[target]\n",
    "    if known_results[target] > 0:\n",
    "        return known_results[target]\n",
    "    else:\n",
    "        for i in [c for c in coins if c < target]:\n",
    "            num_coins = 1 + rec_coin(target - i, coins, known_results)\n",
    "            if num_coins < min_coins:\n",
    "                min_coins = num_coins\n",
    "                known_results[target] = min_coins\n",
    "    return known_results[target]"
   ]
  },
  {
   "cell_type": "code",
   "execution_count": 11,
   "metadata": {},
   "outputs": [
    {
     "data": {
      "text/plain": [
       "2"
      ]
     },
     "execution_count": 11,
     "metadata": {},
     "output_type": "execute_result"
    }
   ],
   "source": [
    "rec_coin(10,[1,5],[0]*11)"
   ]
  },
  {
   "cell_type": "code",
   "execution_count": 5,
   "metadata": {},
   "outputs": [
    {
     "data": {
      "text/plain": [
       "3"
      ]
     },
     "execution_count": 5,
     "metadata": {},
     "output_type": "execute_result"
    }
   ],
   "source": [
    "rec_coin(8,[5,2])"
   ]
  },
  {
   "cell_type": "code",
   "execution_count": null,
   "metadata": {},
   "outputs": [],
   "source": []
  }
 ],
 "metadata": {
  "kernelspec": {
   "display_name": "Python 3",
   "language": "python",
   "name": "python3"
  },
  "language_info": {
   "codemirror_mode": {
    "name": "ipython",
    "version": 3
   },
   "file_extension": ".py",
   "mimetype": "text/x-python",
   "name": "python",
   "nbconvert_exporter": "python",
   "pygments_lexer": "ipython3",
   "version": "3.6.5"
  }
 },
 "nbformat": 4,
 "nbformat_minor": 2
}
